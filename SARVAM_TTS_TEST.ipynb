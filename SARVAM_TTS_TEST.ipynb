{
 "cells": [
  {
   "cell_type": "code",
   "execution_count": 6,
   "metadata": {},
   "outputs": [
    {
     "name": "stdout",
     "output_type": "stream",
     "text": [
      "API Subscription Key loaded successfully.\n"
     ]
    }
   ],
   "source": [
    "from dotenv import load_dotenv\n",
    "import os\n",
    "# Load environment variables from the .env file\n",
    "load_dotenv()\n",
    "# Retrieve the API subscription key\n",
    "api_subscription_key = os.getenv('API_SUBSCRIPTION_KEY')\n",
    "\n",
    "if api_subscription_key:\n",
    "    print(\"API Subscription Key loaded successfully.\")\n",
    "else:\n",
    "    print(\"Failed to load API Subscription Key.\")\n"
   ]
  },
  {
   "cell_type": "code",
   "execution_count": 50,
   "metadata": {},
   "outputs": [],
   "source": [
    "import base64\n",
    "from pydub import AudioSegment\n",
    "import simpleaudio as sa\n",
    "\n",
    "url = \"https://api.sarvam.ai/text-to-speech\""
   ]
  },
  {
   "cell_type": "code",
   "execution_count": 55,
   "metadata": {},
   "outputs": [
    {
     "data": {
      "text/plain": [
       "1453"
      ]
     },
     "execution_count": 55,
     "metadata": {},
     "output_type": "execute_result"
    }
   ],
   "source": [
    "story = \"\"\" title: Bandar aur Magarmachh ki Dosti**\n",
    "\n",
    "Ek ghane jungle mein, ek chatur bandar aur ek bhola magarmachh dost ban jaate hain. Dono milkar bahut samay bitane lagte hain aur unki dosti gehri ho jaati hai. Bandar apne ped ke meethay fal magarmachh ke saath baantta hai aur magarmachh un falon ka mazaa leta hai. Magarmachh in meethay falon ko apni patni ke liye bhi le jaata hai.\n",
    "\n",
    "Lekin, magarmachh ki patni lalchi thi aur usne bandar ka dil khane ki ichha jatai. Is chakkar mein, usne apne pati ko bandar ko dawat par bulane ke liye kaha, taaki wo bandar ko pakad sake. Magarmachh bandar ko apne saath ek shandar dawat ka waada karke le jaane lagta hai.\n",
    "\n",
    "Raaste mein, magarmachh apni patni ki ichha ke baare mein bandar ko batata hai. Bandar turant samajh jaata hai ki uski jaan khatre mein hai. Chatur bandar ne turant ek chaal sochi aur bola, \"Arre bhai, main apna dil ped par hi bhool aaya hoon! Mujhe wapas le chalo, tabhi to main apna dil le kar tumhari patni ki ichha puri kar paunga.\"\n",
    "\n",
    "Magarmachh apni patni ki baat yaad karta hai aur bandar ko wapas ped ke paas le aata hai. Jaise hi wo wapas ped ke paas pahunchte hain, bandar phurti se ped par chadh jaata hai aur apni jaan bachata hai. Magarmachh ko apni bhool ka ahsaas hota hai, lekin tab tak bandar apne ghar ke surakshit aangan mein pahunch chuka hota hai.\n",
    "\n",
    "Iss tarah, chatur bandar apni samajhdaari se apni jaan bachata hai aur magarmachh ki patni ke bure iraadon ko niraash kar deta hai. \"\"\"\n",
    "len(story)"
   ]
  },
  {
   "cell_type": "code",
   "execution_count": 53,
   "metadata": {},
   "outputs": [],
   "source": [
    "payload = {\n",
    "    \"inputs\": [\"\"\" Title: Bandar aur Magarmachh ki Dosti\n",
    "\n",
    "Ek ghane jungle mein, ek chatur bandar aur ek bhola magarmachh dost ban jaate hain. Dono milkar bahut samay bitane lagte hain aur unki dosti gehri ho jaati hai. Bandar apne ped ke meethay fal magarmachh ke saath baantta hai aur magarmachh un falon ka mazaa leta hai. Magarmachh in meethay falon ko apni patni ke liye bhi le jaata hai.\n",
    "\n",
    "Lekin, magarmachh ki patni lalchi thi aur usne bandar ka dil khane ki ichha jatai. \"\"\"],\n",
    "    \"target_language_code\": \"hi-IN\",\n",
    "    \"speaker\": \"meera\",\n",
    "    \"pitch\": 0,\n",
    "    \"pace\": 1.65,\n",
    "    \"loudness\": 1.5,\n",
    "    \"speech_sample_rate\": 8000,\n",
    "    \"enable_preprocessing\": True,\n",
    "    \"model\": \"bulbul:v1\"\n",
    "}\n",
    "headers = {\"Content-Type\": \"application/json\", 'API-Subscription-Key':api_subscription_key ,}\n",
    "\n",
    "response = requests.request(\"POST\", url, json=payload, headers=headers)\n",
    "response_json = response.json()\n",
    "# print(response.text)"
   ]
  },
  {
   "cell_type": "code",
   "execution_count": 54,
   "metadata": {},
   "outputs": [
    {
     "name": "stdout",
     "output_type": "stream",
     "text": [
      "Audio saved successfully as 'output_audio.wav'\n"
     ]
    }
   ],
   "source": [
    "# Assuming the response.text is a base64-encoded audio string\n",
    "audio_base64 = response_json['audios'][0]\n",
    "\n",
    "# Decoding the base64 string to binary data\n",
    "audio_data = base64.b64decode(audio_base64)\n",
    "\n",
    "# Saving the audio to a file\n",
    "with open(\"bandar_aur_magarmachh.wav\", \"wb\") as audio_file:\n",
    "    audio_file.write(audio_data)\n",
    "\n",
    "print(\"Audio saved successfully as 'output_audio.wav'\")"
   ]
  }
 ],
 "metadata": {
  "kernelspec": {
   "display_name": "Python 3",
   "language": "python",
   "name": "python3"
  },
  "language_info": {
   "codemirror_mode": {
    "name": "ipython",
    "version": 3
   },
   "file_extension": ".py",
   "mimetype": "text/x-python",
   "name": "python",
   "nbconvert_exporter": "python",
   "pygments_lexer": "ipython3",
   "version": "3.12.4"
  }
 },
 "nbformat": 4,
 "nbformat_minor": 2
}
